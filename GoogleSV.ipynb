{
  "cells": [
    {
      "cell_type": "code",
      "execution_count": null,
      "metadata": {
        "colab": {
          "base_uri": "https://localhost:8080/"
        },
        "id": "k9q6oaw7XH7Z",
        "outputId": "2f8bbce6-340b-4e6a-d367-79015b5cb5cb"
      },
      "outputs": [
        {
          "name": "stdout",
          "output_type": "stream",
          "text": [
            "Collecting git+https://github.com/robolyst/streetview\n",
            "  Cloning https://github.com/robolyst/streetview to /tmp/pip-req-build-ehu7xjus\n",
            "  Running command git clone -q https://github.com/robolyst/streetview /tmp/pip-req-build-ehu7xjus\n",
            "Requirement already satisfied: requests in /usr/local/lib/python3.7/dist-packages (from streetview==0.1) (2.23.0)\n",
            "Requirement already satisfied: pillow in /usr/local/lib/python3.7/dist-packages (from streetview==0.1) (7.1.2)\n",
            "Requirement already satisfied: chardet<4,>=3.0.2 in /usr/local/lib/python3.7/dist-packages (from requests->streetview==0.1) (3.0.4)\n",
            "Requirement already satisfied: urllib3!=1.25.0,!=1.25.1,<1.26,>=1.21.1 in /usr/local/lib/python3.7/dist-packages (from requests->streetview==0.1) (1.24.3)\n",
            "Requirement already satisfied: idna<3,>=2.5 in /usr/local/lib/python3.7/dist-packages (from requests->streetview==0.1) (2.10)\n",
            "Requirement already satisfied: certifi>=2017.4.17 in /usr/local/lib/python3.7/dist-packages (from requests->streetview==0.1) (2021.10.8)\n",
            "Building wheels for collected packages: streetview\n",
            "  Building wheel for streetview (setup.py) ... \u001b[?25l\u001b[?25hdone\n",
            "  Created wheel for streetview: filename=streetview-0.1-py3-none-any.whl size=5559 sha256=df53c37587d31e55e6bbfb9f0de7b8c4a2e26637eb00642f8717ce922af72897\n",
            "  Stored in directory: /tmp/pip-ephem-wheel-cache-y5p972iz/wheels/66/29/d5/10e85c6bce2a6b608b12aacf7f661be4969781e1c001060857\n",
            "Successfully built streetview\n",
            "Installing collected packages: streetview\n",
            "Successfully installed streetview-0.1\n"
          ]
        }
      ],
      "source": [
        "!pip install git+https://github.com/robolyst/streetview"
      ]
    },
    {
      "cell_type": "code",
      "execution_count": null,
      "metadata": {
        "colab": {
          "base_uri": "https://localhost:8080/",
          "height": 35
        },
        "id": "OKHM7rGrXJTQ",
        "outputId": "2660293d-0206-4b1b-c20a-ac83913dbb37"
      },
      "outputs": [
        {
          "data": {
            "application/vnd.google.colaboratory.intrinsic+json": {
              "type": "string"
            },
            "text/plain": [
              "'pV6jtRc157XZtWpVIR-rtg'"
            ]
          },
          "execution_count": 2,
          "metadata": {},
          "output_type": "execute_result"
        }
      ],
      "source": [
        "import streetview\n",
        "panoids = streetview.panoids(lat=-33.85693857571269, lon=151.2144895142714)\n",
        "panoids[0]['panoid']"
      ]
    },
    {
      "cell_type": "code",
      "execution_count": null,
      "metadata": {
        "colab": {
          "base_uri": "https://localhost:8080/"
        },
        "id": "HGVWI2l4XRwD",
        "outputId": "076a5286-bbb4-400c-df05-151ed3fe338a"
      },
      "outputs": [
        {
          "name": "stdout",
          "output_type": "stream",
          "text": [
            "pV6jtRc157XZtWpVIR-rtg\n",
            "OH7ReEUauWGKYqUwff4csA\n",
            "aX3nhhCruYOr-i1vSef13Q\n",
            "Dnwib32GDUwR0ZEUpaRjwA\n",
            "QHQTTGU4c5FPNTRAef8NMQ\n",
            "T3Olav_5BHcO4mp26-p5uA\n",
            "UnQPs_i5Ve4PKBsiiKCGIg\n",
            "fyU-UFzcm46oYIHpfaqdEA\n",
            "0Ih6zwlaAi7BJBPMyCGzIw\n",
            "D2hYV0KIE5z2DT3zKISPIw\n",
            "U-xGOUhYBvhoQLW3fRWiMQ\n",
            "iEEnn7eeubWaaOGtgyZFkA\n"
          ]
        }
      ],
      "source": [
        "areas=[]\n",
        "for i in panoids:\n",
        "  print(i['panoid'])\n",
        "  areas.append(i['panoid'])"
      ]
    },
    {
      "cell_type": "markdown",
      "metadata": {
        "id": "8jqghMi7h19U"
      },
      "source": [
        "### SG"
      ]
    },
    {
      "cell_type": "code",
      "execution_count": null,
      "metadata": {
        "id": "6BKmFJCCZNhR"
      },
      "outputs": [],
      "source": [
        "!mkdir /content/Singapore0408"
      ]
    },
    {
      "cell_type": "code",
      "execution_count": null,
      "metadata": {
        "id": "gu7byhHKY6xB"
      },
      "outputs": [],
      "source": [
        "# params=[]\n",
        "images={}\n",
        "\n",
        "import streetview\n",
        "import numpy as np\n",
        "for i in np.arange(1,1.5,0.005):\n",
        "    for j in np.arange(103.4,104.1,0.005):\n",
        "      # panoids = streetview.panoids(lat=-33.85693857571269, lon=151.2144895142714)\n",
        "      panoids = streetview.panoids(lat=i, lon=j)\n",
        "      try:\n",
        "        area=panoids[0]['panoid']\n",
        "        # print(i,j)\n",
        "        for k in [0,90,180,270]:\n",
        "          tmp=streetview.api_download(area,heading=k,flat_dir='/content/Singapore0408/', key='需要自己申请')\n",
        "          images[tmp]=(i,j)\n",
        "\n",
        "      except Exception as e:\n",
        "        pass"
      ]
    },
    {
      "cell_type": "code",
      "execution_count": null,
      "metadata": {
        "id": "KchVzY4Jd1Zh"
      },
      "outputs": [],
      "source": [
        "!cp -r /content/Singapore0408/ /content/drive/MyDrive/街景聚类"
      ]
    },
    {
      "cell_type": "code",
      "execution_count": null,
      "metadata": {
        "colab": {
          "base_uri": "https://localhost:8080/"
        },
        "id": "FaRDtCQ6ejlE",
        "outputId": "450ede97-39c6-4d25-d8ea-f565a28f478c"
      },
      "outputs": [
        {
          "data": {
            "text/plain": [
              "7008"
            ]
          },
          "execution_count": 8,
          "metadata": {},
          "output_type": "execute_result"
        }
      ],
      "source": [
        "len(images)"
      ]
    },
    {
      "cell_type": "code",
      "execution_count": null,
      "metadata": {
        "id": "92FZRELfgWpO"
      },
      "outputs": [],
      "source": [
        "f= open('/content/Singapore0408/meta.txt', 'w+')\n",
        "f.write('name')\n",
        "f.write(',')\n",
        "f.write('lat')\n",
        "f.write(',')\n",
        "f.write('lng')\n",
        "f.write('\\n')\n",
        "# file= open(r'F:\\1.txt', mode='w+', encoding='UTF-8')\n",
        "for key in images:\n",
        "# print(key+':'+a[key])  \n",
        "# for i,v in images.items():\n",
        "  f.write(str(key.split('/')[-1]))\n",
        "  f.write(',')\n",
        "  f.write(str(images[key][0]))\n",
        "  f.write(',')\n",
        "  f.write(str(images[key][1]))\n",
        "  f.write('\\n')\n",
        "f.close()"
      ]
    }
  ],
  "metadata": {
    "colab": {
      "collapsed_sections": [],
      "name": "GoogleSV.ipynb",
      "provenance": []
    },
    "kernelspec": {
      "display_name": "Python 3",
      "name": "python3"
    },
    "language_info": {
      "name": "python"
    },
    "widgets": {
      "application/vnd.jupyter.widget-state+json": {
        "46044d5190a84b07bf7a64652f2d33a1": {
          "model_module": "@jupyter-widgets/controls",
          "model_module_version": "1.5.0",
          "model_name": "TextModel",
          "state": {
            "_dom_classes": [],
            "_model_module": "@jupyter-widgets/controls",
            "_model_module_version": "1.5.0",
            "_model_name": "TextModel",
            "_view_count": null,
            "_view_module": "@jupyter-widgets/controls",
            "_view_module_version": "1.5.0",
            "_view_name": "TextView",
            "continuous_update": true,
            "description": "Image URL",
            "description_tooltip": null,
            "disabled": false,
            "layout": "IPY_MODEL_8ab483a37da6438e91d08c2d6dd2f2dc",
            "placeholder": "​",
            "style": "IPY_MODEL_c012835eb0664cfa842339a5d23620d0",
            "value": "/content/drive/MyDrive/街景聚类/Singapore0408/2017_r02PmoToByGe43K65qblBA_270.jpg"
          }
        },
        "65e53cd5260146fb85b18a8c0ec8d59d": {
          "model_module": "@jupyter-widgets/base",
          "model_module_version": "1.2.0",
          "model_name": "LayoutModel",
          "state": {
            "_model_module": "@jupyter-widgets/base",
            "_model_module_version": "1.2.0",
            "_model_name": "LayoutModel",
            "_view_count": null,
            "_view_module": "@jupyter-widgets/base",
            "_view_module_version": "1.2.0",
            "_view_name": "LayoutView",
            "align_content": null,
            "align_items": null,
            "align_self": null,
            "border": null,
            "bottom": null,
            "display": null,
            "flex": null,
            "flex_flow": null,
            "grid_area": null,
            "grid_auto_columns": null,
            "grid_auto_flow": null,
            "grid_auto_rows": null,
            "grid_column": null,
            "grid_gap": null,
            "grid_row": null,
            "grid_template_areas": null,
            "grid_template_columns": null,
            "grid_template_rows": null,
            "height": null,
            "justify_content": null,
            "justify_items": null,
            "left": null,
            "margin": null,
            "max_height": null,
            "max_width": null,
            "min_height": null,
            "min_width": null,
            "object_fit": null,
            "object_position": null,
            "order": null,
            "overflow": null,
            "overflow_x": null,
            "overflow_y": null,
            "padding": null,
            "right": null,
            "top": null,
            "visibility": null,
            "width": null
          }
        },
        "7f6be9eda5a2428386da7ee84bb609fe": {
          "model_module": "@jupyter-widgets/controls",
          "model_module_version": "1.5.0",
          "model_name": "ButtonModel",
          "state": {
            "_dom_classes": [],
            "_model_module": "@jupyter-widgets/controls",
            "_model_module_version": "1.5.0",
            "_model_name": "ButtonModel",
            "_view_count": null,
            "_view_module": "@jupyter-widgets/controls",
            "_view_module_version": "1.5.0",
            "_view_name": "ButtonView",
            "button_style": "",
            "description": "Caption the image!",
            "disabled": false,
            "icon": "",
            "layout": "IPY_MODEL_65e53cd5260146fb85b18a8c0ec8d59d",
            "style": "IPY_MODEL_8a73f8febde9488fbebfd8b54c31ac63",
            "tooltip": ""
          }
        },
        "8a73f8febde9488fbebfd8b54c31ac63": {
          "model_module": "@jupyter-widgets/controls",
          "model_module_version": "1.5.0",
          "model_name": "ButtonStyleModel",
          "state": {
            "_model_module": "@jupyter-widgets/controls",
            "_model_module_version": "1.5.0",
            "_model_name": "ButtonStyleModel",
            "_view_count": null,
            "_view_module": "@jupyter-widgets/base",
            "_view_module_version": "1.2.0",
            "_view_name": "StyleView",
            "button_color": null,
            "font_weight": ""
          }
        },
        "8ab483a37da6438e91d08c2d6dd2f2dc": {
          "model_module": "@jupyter-widgets/base",
          "model_module_version": "1.2.0",
          "model_name": "LayoutModel",
          "state": {
            "_model_module": "@jupyter-widgets/base",
            "_model_module_version": "1.2.0",
            "_model_name": "LayoutModel",
            "_view_count": null,
            "_view_module": "@jupyter-widgets/base",
            "_view_module_version": "1.2.0",
            "_view_name": "LayoutView",
            "align_content": null,
            "align_items": null,
            "align_self": null,
            "border": null,
            "bottom": null,
            "display": null,
            "flex": null,
            "flex_flow": null,
            "grid_area": null,
            "grid_auto_columns": null,
            "grid_auto_flow": null,
            "grid_auto_rows": null,
            "grid_column": null,
            "grid_gap": null,
            "grid_row": null,
            "grid_template_areas": null,
            "grid_template_columns": null,
            "grid_template_rows": null,
            "height": null,
            "justify_content": null,
            "justify_items": null,
            "left": null,
            "margin": null,
            "max_height": null,
            "max_width": null,
            "min_height": null,
            "min_width": null,
            "object_fit": null,
            "object_position": null,
            "order": null,
            "overflow": null,
            "overflow_x": null,
            "overflow_y": null,
            "padding": null,
            "right": null,
            "top": null,
            "visibility": null,
            "width": null
          }
        },
        "c012835eb0664cfa842339a5d23620d0": {
          "model_module": "@jupyter-widgets/controls",
          "model_module_version": "1.5.0",
          "model_name": "DescriptionStyleModel",
          "state": {
            "_model_module": "@jupyter-widgets/controls",
            "_model_module_version": "1.5.0",
            "_model_name": "DescriptionStyleModel",
            "_view_count": null,
            "_view_module": "@jupyter-widgets/base",
            "_view_module_version": "1.2.0",
            "_view_name": "StyleView",
            "description_width": ""
          }
        }
      }
    }
  },
  "nbformat": 4,
  "nbformat_minor": 0
}
